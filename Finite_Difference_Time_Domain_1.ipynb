{
  "nbformat": 4,
  "nbformat_minor": 0,
  "metadata": {
    "colab": {
      "provenance": [],
      "authorship_tag": "ABX9TyOlPYMn4ydPeS1LXbwM1/ve",
      "include_colab_link": true
    },
    "kernelspec": {
      "name": "python3",
      "display_name": "Python 3"
    },
    "language_info": {
      "name": "python"
    }
  },
  "cells": [
    {
      "cell_type": "markdown",
      "metadata": {
        "id": "view-in-github",
        "colab_type": "text"
      },
      "source": [
        "<a href=\"https://colab.research.google.com/github/angelohafner/diferencas_finitas/blob/main/Finite_Difference_Time_Domain_1.ipynb\" target=\"_parent\"><img src=\"https://colab.research.google.com/assets/colab-badge.svg\" alt=\"Open In Colab\"/></a>"
      ]
    },
    {
      "cell_type": "markdown",
      "source": [],
      "metadata": {
        "id": "TmNFMlYYwPU3"
      }
    },
    {
      "cell_type": "code",
      "execution_count": 6,
      "metadata": {
        "colab": {
          "base_uri": "https://localhost:8080/",
          "height": 307
        },
        "id": "81vEN2kfv9ra",
        "outputId": "1700ce03-392d-4371-bd5b-7471ddff546b"
      },
      "outputs": [
        {
          "output_type": "stream",
          "name": "stdout",
          "text": [
            "\r0% [Working]\r            \rHit:1 https://cloud.r-project.org/bin/linux/ubuntu jammy-cran40/ InRelease\n",
            "\r0% [Connecting to archive.ubuntu.com (185.125.190.39)] [Waiting for headers] [Connecting to ppa.laun\r                                                                                                    \rHit:2 https://developer.download.nvidia.com/compute/cuda/repos/ubuntu2204/x86_64  InRelease\n",
            "Hit:3 http://security.ubuntu.com/ubuntu jammy-security InRelease\n",
            "Hit:4 http://archive.ubuntu.com/ubuntu jammy InRelease\n",
            "Hit:5 http://archive.ubuntu.com/ubuntu jammy-updates InRelease\n",
            "Hit:6 http://archive.ubuntu.com/ubuntu jammy-backports InRelease\n",
            "Hit:7 https://ppa.launchpadcontent.net/c2d4u.team/c2d4u4.0+/ubuntu jammy InRelease\n",
            "Hit:8 https://ppa.launchpadcontent.net/deadsnakes/ppa/ubuntu jammy InRelease\n",
            "Hit:9 https://ppa.launchpadcontent.net/graphics-drivers/ppa/ubuntu jammy InRelease\n",
            "Hit:10 https://ppa.launchpadcontent.net/ubuntugis/ppa/ubuntu jammy InRelease\n",
            "Reading package lists... Done\n",
            "Reading package lists... Done\n",
            "Building dependency tree... Done\n",
            "Reading state information... Done\n",
            "ffmpeg is already the newest version (7:4.4.2-0ubuntu0.22.04.1).\n",
            "0 upgraded, 0 newly installed, 0 to remove and 46 not upgraded.\n"
          ]
        },
        {
          "output_type": "display_data",
          "data": {
            "text/plain": [
              "<IPython.core.display.Javascript object>"
            ],
            "application/javascript": [
              "\n",
              "    async function download(id, filename, size) {\n",
              "      if (!google.colab.kernel.accessAllowed) {\n",
              "        return;\n",
              "      }\n",
              "      const div = document.createElement('div');\n",
              "      const label = document.createElement('label');\n",
              "      label.textContent = `Downloading \"${filename}\": `;\n",
              "      div.appendChild(label);\n",
              "      const progress = document.createElement('progress');\n",
              "      progress.max = size;\n",
              "      div.appendChild(progress);\n",
              "      document.body.appendChild(div);\n",
              "\n",
              "      const buffers = [];\n",
              "      let downloaded = 0;\n",
              "\n",
              "      const channel = await google.colab.kernel.comms.open(id);\n",
              "      // Send a message to notify the kernel that we're ready.\n",
              "      channel.send({})\n",
              "\n",
              "      for await (const message of channel.messages) {\n",
              "        // Send a message to notify the kernel that we're ready.\n",
              "        channel.send({})\n",
              "        if (message.buffers) {\n",
              "          for (const buffer of message.buffers) {\n",
              "            buffers.push(buffer);\n",
              "            downloaded += buffer.byteLength;\n",
              "            progress.value = downloaded;\n",
              "          }\n",
              "        }\n",
              "      }\n",
              "      const blob = new Blob(buffers, {type: 'application/binary'});\n",
              "      const a = document.createElement('a');\n",
              "      a.href = window.URL.createObjectURL(blob);\n",
              "      a.download = filename;\n",
              "      div.appendChild(a);\n",
              "      a.click();\n",
              "      div.remove();\n",
              "    }\n",
              "  "
            ]
          },
          "metadata": {}
        },
        {
          "output_type": "display_data",
          "data": {
            "text/plain": [
              "<IPython.core.display.Javascript object>"
            ],
            "application/javascript": [
              "download(\"download_56a937f4-4656-4f80-a5aa-6535b7b02353\", \"onda_sonora.mp4\", 122962)"
            ]
          },
          "metadata": {}
        }
      ],
      "source": [
        "!apt-get update\n",
        "!apt-get install ffmpeg\n",
        "\n",
        "import numpy as np\n",
        "import matplotlib.pyplot as plt\n",
        "import matplotlib.animation as animation\n",
        "\n",
        "# Parâmetros da simulação\n",
        "tamanho_x = 200\n",
        "tamanho_y = 200\n",
        "passos_tempo = 600\n",
        "\n",
        "velocidade_som = 343  # m/s\n",
        "dx = 0.01  # m\n",
        "dt = dx / (2 * velocidade_som)  # s\n",
        "\n",
        "# Inicialização dos campos\n",
        "pressao = np.zeros((tamanho_x, tamanho_y))\n",
        "pressao_nova = np.zeros((tamanho_x, tamanho_y))\n",
        "pressao_velha = np.zeros((tamanho_x, tamanho_y))\n",
        "\n",
        "def fonte(t):\n",
        "    return np.exp(-((t - 20) / 10)**2)\n",
        "\n",
        "def update_pressure(pressao, pressao_nova, pressao_velha):\n",
        "    for i in range(1, tamanho_x - 1):\n",
        "        for j in range(1, tamanho_y - 1):\n",
        "            d2px = (pressao[i+1, j] - 2*pressao[i, j] + pressao[i-1, j]) / dx**2\n",
        "            d2py = (pressao[i, j+1] - 2*pressao[i, j] + pressao[i, j-1]) / dx**2\n",
        "            pressao_nova[i, j] = 2*pressao[i, j] - pressao_velha[i, j] + (velocidade_som**2) * dt**2 * (d2px + d2py)\n",
        "\n",
        "# Preparando a animação\n",
        "fig, ax = plt.subplots()\n",
        "img = ax.imshow(pressao, extent=[0, tamanho_x*dx, 0, tamanho_y*dx], vmin=-1, vmax=1, animated=True, cmap='jet')\n",
        "\n",
        "def animate(i):\n",
        "    global pressao, pressao_nova, pressao_velha\n",
        "    if i < 40:\n",
        "        pressao[tamanho_x // 2, tamanho_y // 2] = fonte(i)\n",
        "    update_pressure(pressao, pressao_nova, pressao_velha)\n",
        "    pressao_velha = np.copy(pressao)\n",
        "    pressao = np.copy(pressao_nova)\n",
        "    img.set_array(pressao)\n",
        "    return img,\n",
        "\n",
        "# Criando a animação\n",
        "ani = animation.FuncAnimation(fig, animate, frames=passos_tempo, interval=50)\n",
        "\n",
        "# Salvar a animação como um arquivo de vídeo\n",
        "ani.save('onda_sonora.mp4', writer='ffmpeg', fps=60)\n",
        "\n",
        "plt.close()\n",
        "\n",
        "# Código para baixar o arquivo no Colab\n",
        "from google.colab import files\n",
        "files.download('onda_sonora.mp4')\n"
      ]
    }
  ]
}